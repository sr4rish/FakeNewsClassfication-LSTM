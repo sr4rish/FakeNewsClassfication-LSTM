{
  "nbformat": 4,
  "nbformat_minor": 0,
  "metadata": {
    "colab": {
      "name": "FakeNewsClassifierLatest.ipynb",
      "provenance": [],
      "collapsed_sections": [],
      "mount_file_id": "1pQIZMpii5ZMvuNBYoNCcAAftd3GavI8-",
      "authorship_tag": "ABX9TyMqMdb9llGiStEIfV0sVeDy",
      "include_colab_link": true
    },
    "kernelspec": {
      "name": "python3",
      "display_name": "Python 3"
    }
  },
  "cells": [
    {
      "cell_type": "markdown",
      "metadata": {
        "id": "view-in-github",
        "colab_type": "text"
      },
      "source": [
        "<a href=\"https://colab.research.google.com/github/sr4rish/FakeNewsClassfication-LSTM/blob/master/FakeNewsClassifierLatest.ipynb\" target=\"_parent\"><img src=\"https://colab.research.google.com/assets/colab-badge.svg\" alt=\"Open In Colab\"/></a>"
      ]
    },
    {
      "cell_type": "code",
      "metadata": {
        "id": "utOCj2qDhabN",
        "colab_type": "code",
        "colab": {}
      },
      "source": [
        "import pandas as pd\n",
        "import tensorflow as tf\n",
        "import re\n",
        "import numpy as np\n",
        "from string import punctuation\n",
        "from sklearn.model_selection import train_test_split\n",
        "import matplotlib.pyplot as plt\n",
        "from tensorflow.keras.layers import Embedding, LSTM, Dense, Dropout, SpatialDropout1D\n",
        "from tensorflow.keras.preprocessing.sequence import pad_sequences\n",
        "from tensorflow.keras.models import Sequential\n",
        "from tensorflow.keras.preprocessing.text import one_hot, Tokenizer"
      ],
      "execution_count": 40,
      "outputs": []
    },
    {
      "cell_type": "code",
      "metadata": {
        "id": "_7oZHs8BnUK8",
        "colab_type": "code",
        "colab": {
          "base_uri": "https://localhost:8080/",
          "height": 204
        },
        "outputId": "09005eac-88b6-4afa-fdf8-b9a4fde8ef2a"
      },
      "source": [
        "df=pd.read_csv('/content/drive/My Drive/FakeNewsClassifier/train.csv')\n",
        "df.head()"
      ],
      "execution_count": 41,
      "outputs": [
        {
          "output_type": "execute_result",
          "data": {
            "text/html": [
              "<div>\n",
              "<style scoped>\n",
              "    .dataframe tbody tr th:only-of-type {\n",
              "        vertical-align: middle;\n",
              "    }\n",
              "\n",
              "    .dataframe tbody tr th {\n",
              "        vertical-align: top;\n",
              "    }\n",
              "\n",
              "    .dataframe thead th {\n",
              "        text-align: right;\n",
              "    }\n",
              "</style>\n",
              "<table border=\"1\" class=\"dataframe\">\n",
              "  <thead>\n",
              "    <tr style=\"text-align: right;\">\n",
              "      <th></th>\n",
              "      <th>id</th>\n",
              "      <th>title</th>\n",
              "      <th>author</th>\n",
              "      <th>text</th>\n",
              "      <th>label</th>\n",
              "    </tr>\n",
              "  </thead>\n",
              "  <tbody>\n",
              "    <tr>\n",
              "      <th>0</th>\n",
              "      <td>0</td>\n",
              "      <td>House Dem Aide: We Didn’t Even See Comey’s Let...</td>\n",
              "      <td>Darrell Lucus</td>\n",
              "      <td>House Dem Aide: We Didn’t Even See Comey’s Let...</td>\n",
              "      <td>1</td>\n",
              "    </tr>\n",
              "    <tr>\n",
              "      <th>1</th>\n",
              "      <td>1</td>\n",
              "      <td>FLYNN: Hillary Clinton, Big Woman on Campus - ...</td>\n",
              "      <td>Daniel J. Flynn</td>\n",
              "      <td>Ever get the feeling your life circles the rou...</td>\n",
              "      <td>0</td>\n",
              "    </tr>\n",
              "    <tr>\n",
              "      <th>2</th>\n",
              "      <td>2</td>\n",
              "      <td>Why the Truth Might Get You Fired</td>\n",
              "      <td>Consortiumnews.com</td>\n",
              "      <td>Why the Truth Might Get You Fired October 29, ...</td>\n",
              "      <td>1</td>\n",
              "    </tr>\n",
              "    <tr>\n",
              "      <th>3</th>\n",
              "      <td>3</td>\n",
              "      <td>15 Civilians Killed In Single US Airstrike Hav...</td>\n",
              "      <td>Jessica Purkiss</td>\n",
              "      <td>Videos 15 Civilians Killed In Single US Airstr...</td>\n",
              "      <td>1</td>\n",
              "    </tr>\n",
              "    <tr>\n",
              "      <th>4</th>\n",
              "      <td>4</td>\n",
              "      <td>Iranian woman jailed for fictional unpublished...</td>\n",
              "      <td>Howard Portnoy</td>\n",
              "      <td>Print \\nAn Iranian woman has been sentenced to...</td>\n",
              "      <td>1</td>\n",
              "    </tr>\n",
              "  </tbody>\n",
              "</table>\n",
              "</div>"
            ],
            "text/plain": [
              "   id  ... label\n",
              "0   0  ...     1\n",
              "1   1  ...     0\n",
              "2   2  ...     1\n",
              "3   3  ...     1\n",
              "4   4  ...     1\n",
              "\n",
              "[5 rows x 5 columns]"
            ]
          },
          "metadata": {
            "tags": []
          },
          "execution_count": 41
        }
      ]
    },
    {
      "cell_type": "code",
      "metadata": {
        "id": "oTWLcp7DozZP",
        "colab_type": "code",
        "colab": {
          "base_uri": "https://localhost:8080/",
          "height": 34
        },
        "outputId": "e1c1433d-1809-47c3-dc2b-e293d69ee926"
      },
      "source": [
        "df.shape"
      ],
      "execution_count": 42,
      "outputs": [
        {
          "output_type": "execute_result",
          "data": {
            "text/plain": [
              "(20800, 5)"
            ]
          },
          "metadata": {
            "tags": []
          },
          "execution_count": 42
        }
      ]
    },
    {
      "cell_type": "code",
      "metadata": {
        "id": "G6J0EFD5okIi",
        "colab_type": "code",
        "colab": {
          "base_uri": "https://localhost:8080/",
          "height": 119
        },
        "outputId": "cee46e60-c0ef-48f2-97a7-f6f22e640875"
      },
      "source": [
        "# checking for missing values\n",
        "df.isnull().sum()"
      ],
      "execution_count": 43,
      "outputs": [
        {
          "output_type": "execute_result",
          "data": {
            "text/plain": [
              "id           0\n",
              "title      558\n",
              "author    1957\n",
              "text        39\n",
              "label        0\n",
              "dtype: int64"
            ]
          },
          "metadata": {
            "tags": []
          },
          "execution_count": 43
        }
      ]
    },
    {
      "cell_type": "code",
      "metadata": {
        "id": "gzHbFXv4okEZ",
        "colab_type": "code",
        "colab": {
          "base_uri": "https://localhost:8080/",
          "height": 204
        },
        "outputId": "e0a28e9d-6361-4abf-8b59-06264f80debf"
      },
      "source": [
        "df_train = df[['title','label']]\n",
        "df_train.head()"
      ],
      "execution_count": 44,
      "outputs": [
        {
          "output_type": "execute_result",
          "data": {
            "text/html": [
              "<div>\n",
              "<style scoped>\n",
              "    .dataframe tbody tr th:only-of-type {\n",
              "        vertical-align: middle;\n",
              "    }\n",
              "\n",
              "    .dataframe tbody tr th {\n",
              "        vertical-align: top;\n",
              "    }\n",
              "\n",
              "    .dataframe thead th {\n",
              "        text-align: right;\n",
              "    }\n",
              "</style>\n",
              "<table border=\"1\" class=\"dataframe\">\n",
              "  <thead>\n",
              "    <tr style=\"text-align: right;\">\n",
              "      <th></th>\n",
              "      <th>title</th>\n",
              "      <th>label</th>\n",
              "    </tr>\n",
              "  </thead>\n",
              "  <tbody>\n",
              "    <tr>\n",
              "      <th>0</th>\n",
              "      <td>House Dem Aide: We Didn’t Even See Comey’s Let...</td>\n",
              "      <td>1</td>\n",
              "    </tr>\n",
              "    <tr>\n",
              "      <th>1</th>\n",
              "      <td>FLYNN: Hillary Clinton, Big Woman on Campus - ...</td>\n",
              "      <td>0</td>\n",
              "    </tr>\n",
              "    <tr>\n",
              "      <th>2</th>\n",
              "      <td>Why the Truth Might Get You Fired</td>\n",
              "      <td>1</td>\n",
              "    </tr>\n",
              "    <tr>\n",
              "      <th>3</th>\n",
              "      <td>15 Civilians Killed In Single US Airstrike Hav...</td>\n",
              "      <td>1</td>\n",
              "    </tr>\n",
              "    <tr>\n",
              "      <th>4</th>\n",
              "      <td>Iranian woman jailed for fictional unpublished...</td>\n",
              "      <td>1</td>\n",
              "    </tr>\n",
              "  </tbody>\n",
              "</table>\n",
              "</div>"
            ],
            "text/plain": [
              "                                               title  label\n",
              "0  House Dem Aide: We Didn’t Even See Comey’s Let...      1\n",
              "1  FLYNN: Hillary Clinton, Big Woman on Campus - ...      0\n",
              "2                  Why the Truth Might Get You Fired      1\n",
              "3  15 Civilians Killed In Single US Airstrike Hav...      1\n",
              "4  Iranian woman jailed for fictional unpublished...      1"
            ]
          },
          "metadata": {
            "tags": []
          },
          "execution_count": 44
        }
      ]
    },
    {
      "cell_type": "code",
      "metadata": {
        "id": "2kIq5kXBokCl",
        "colab_type": "code",
        "colab": {
          "base_uri": "https://localhost:8080/",
          "height": 68
        },
        "outputId": "0d240414-a44b-4b46-f5ba-59e84acbe83a"
      },
      "source": [
        "# checking for missing values\n",
        "df_train.isnull().sum()"
      ],
      "execution_count": 45,
      "outputs": [
        {
          "output_type": "execute_result",
          "data": {
            "text/plain": [
              "title    558\n",
              "label      0\n",
              "dtype: int64"
            ]
          },
          "metadata": {
            "tags": []
          },
          "execution_count": 45
        }
      ]
    },
    {
      "cell_type": "code",
      "metadata": {
        "id": "b8ALrendoj-o",
        "colab_type": "code",
        "colab": {}
      },
      "source": [
        "###Drop Nan Values\n",
        "df_train=df_train.dropna()"
      ],
      "execution_count": 46,
      "outputs": []
    },
    {
      "cell_type": "code",
      "metadata": {
        "id": "5gk1oMKKoj8N",
        "colab_type": "code",
        "colab": {
          "base_uri": "https://localhost:8080/",
          "height": 204
        },
        "outputId": "cb11a473-de5b-458a-c41e-47fb63df5dc1"
      },
      "source": [
        "length = []\n",
        "[length.append(len(str(text))) for text in df_train['title']]\n",
        "df_train['length'] = length\n",
        "df_train.head()"
      ],
      "execution_count": 47,
      "outputs": [
        {
          "output_type": "execute_result",
          "data": {
            "text/html": [
              "<div>\n",
              "<style scoped>\n",
              "    .dataframe tbody tr th:only-of-type {\n",
              "        vertical-align: middle;\n",
              "    }\n",
              "\n",
              "    .dataframe tbody tr th {\n",
              "        vertical-align: top;\n",
              "    }\n",
              "\n",
              "    .dataframe thead th {\n",
              "        text-align: right;\n",
              "    }\n",
              "</style>\n",
              "<table border=\"1\" class=\"dataframe\">\n",
              "  <thead>\n",
              "    <tr style=\"text-align: right;\">\n",
              "      <th></th>\n",
              "      <th>title</th>\n",
              "      <th>label</th>\n",
              "      <th>length</th>\n",
              "    </tr>\n",
              "  </thead>\n",
              "  <tbody>\n",
              "    <tr>\n",
              "      <th>0</th>\n",
              "      <td>House Dem Aide: We Didn’t Even See Comey’s Let...</td>\n",
              "      <td>1</td>\n",
              "      <td>81</td>\n",
              "    </tr>\n",
              "    <tr>\n",
              "      <th>1</th>\n",
              "      <td>FLYNN: Hillary Clinton, Big Woman on Campus - ...</td>\n",
              "      <td>0</td>\n",
              "      <td>55</td>\n",
              "    </tr>\n",
              "    <tr>\n",
              "      <th>2</th>\n",
              "      <td>Why the Truth Might Get You Fired</td>\n",
              "      <td>1</td>\n",
              "      <td>33</td>\n",
              "    </tr>\n",
              "    <tr>\n",
              "      <th>3</th>\n",
              "      <td>15 Civilians Killed In Single US Airstrike Hav...</td>\n",
              "      <td>1</td>\n",
              "      <td>63</td>\n",
              "    </tr>\n",
              "    <tr>\n",
              "      <th>4</th>\n",
              "      <td>Iranian woman jailed for fictional unpublished...</td>\n",
              "      <td>1</td>\n",
              "      <td>93</td>\n",
              "    </tr>\n",
              "  </tbody>\n",
              "</table>\n",
              "</div>"
            ],
            "text/plain": [
              "                                               title  label  length\n",
              "0  House Dem Aide: We Didn’t Even See Comey’s Let...      1      81\n",
              "1  FLYNN: Hillary Clinton, Big Woman on Campus - ...      0      55\n",
              "2                  Why the Truth Might Get You Fired      1      33\n",
              "3  15 Civilians Killed In Single US Airstrike Hav...      1      63\n",
              "4  Iranian woman jailed for fictional unpublished...      1      93"
            ]
          },
          "metadata": {
            "tags": []
          },
          "execution_count": 47
        }
      ]
    },
    {
      "cell_type": "code",
      "metadata": {
        "id": "KCELWaEr2tvt",
        "colab_type": "code",
        "colab": {
          "base_uri": "https://localhost:8080/",
          "height": 35
        },
        "outputId": "25edb8de-1ed5-4811-82c0-ec731762f64e"
      },
      "source": [
        "df_train.title[4]"
      ],
      "execution_count": 48,
      "outputs": [
        {
          "output_type": "execute_result",
          "data": {
            "application/vnd.google.colaboratory.intrinsic": {
              "type": "string"
            },
            "text/plain": [
              "'Iranian woman jailed for fictional unpublished story about woman stoned to death for adultery'"
            ]
          },
          "metadata": {
            "tags": []
          },
          "execution_count": 48
        }
      ]
    },
    {
      "cell_type": "code",
      "metadata": {
        "id": "sR7ZQ7xMzdh3",
        "colab_type": "code",
        "colab": {
          "base_uri": "https://localhost:8080/",
          "height": 34
        },
        "outputId": "f4699327-1973-44b4-e2fe-f24759e89232"
      },
      "source": [
        "#tracking outliers and max feature\n",
        "min(df_train['length']), max(df_train['length']), round(sum(df_train['length'])/len(df_train['length']))"
      ],
      "execution_count": 49,
      "outputs": [
        {
          "output_type": "execute_result",
          "data": {
            "text/plain": [
              "(3, 456, 74)"
            ]
          },
          "metadata": {
            "tags": []
          },
          "execution_count": 49
        }
      ]
    },
    {
      "cell_type": "code",
      "metadata": {
        "id": "s7h5kGGV0GYf",
        "colab_type": "code",
        "colab": {
          "base_uri": "https://localhost:8080/",
          "height": 34
        },
        "outputId": "62fcc1dc-330b-469b-8050-0c77553f8af6"
      },
      "source": [
        "len(df_train[df_train['length'] < 200])"
      ],
      "execution_count": 50,
      "outputs": [
        {
          "output_type": "execute_result",
          "data": {
            "text/plain": [
              "20208"
            ]
          },
          "metadata": {
            "tags": []
          },
          "execution_count": 50
        }
      ]
    },
    {
      "cell_type": "code",
      "metadata": {
        "id": "UqvwjjAk3dXE",
        "colab_type": "code",
        "colab": {
          "base_uri": "https://localhost:8080/",
          "height": 323
        },
        "outputId": "2db227b5-6bc8-43a8-cb9f-1bbc2951dce5"
      },
      "source": [
        "df_train['title'][df_train['length'] < 10]"
      ],
      "execution_count": 51,
      "outputs": [
        {
          "output_type": "execute_result",
          "data": {
            "text/plain": [
              "86          Poison\n",
              "1977     Tweetwave\n",
              "2561          Wow!\n",
              "2881     6.1 Italy\n",
              "5697      Trumped!\n",
              "7423       俄罗斯总统观注\n",
              "10596    Rick Rule\n",
              "11624    What If….\n",
              "12617     Untitled\n",
              "15728          Rum\n",
              "16049    What Now?\n",
              "17081         EPIC\n",
              "17607    Candidate\n",
              "17927    Wikileaks\n",
              "19428     Ooh Fuck\n",
              "19741    RIP, Vine\n",
              "20523        White\n",
              "Name: title, dtype: object"
            ]
          },
          "metadata": {
            "tags": []
          },
          "execution_count": 51
        }
      ]
    },
    {
      "cell_type": "code",
      "metadata": {
        "id": "SVf7BvGP3w6C",
        "colab_type": "code",
        "colab": {
          "base_uri": "https://localhost:8080/",
          "height": 612
        },
        "outputId": "2b856a95-1c48-4c13-f6e4-6c4b61d8d14c"
      },
      "source": [
        "df_train['title'][df_train['length'] > 200]"
      ],
      "execution_count": 52,
      "outputs": [
        {
          "output_type": "execute_result",
          "data": {
            "text/plain": [
              "317      Life: If You Love Enamel Pins, You’ll Love Thi...\n",
              "569      Comment on Architecture is More Than a Clever ...\n",
              "1173     Roger Stone update on Stop the Steal exit poll...\n",
              "2095     6-minute analysis: Will FBI agents break ‘Empe...\n",
              "3314     24-minute game-changing video: Electronic ‘vot...\n",
              "3397     Our Landfill Economy: Want to make a quick pro...\n",
              "3419     Comment on These Lifestyle Choices Lower Your ...\n",
              "3563     Comment on 10 Presidents & Politicians Who Tol...\n",
              "4166     Comment on BBC targets children to promote the...\n",
              "5217     Comment on Russian Government Calls For Intern...\n",
              "5267     12 and 63-minute videos: Donald Trump connects...\n",
              "5773     Dr. Jim Willie: ‘The Western central bank fran...\n",
              "6395     Comment on ‘Voting Is Rigged & Used To Pacify ...\n",
              "8717     Secret Emails From Hillary Clinton Reveal: The...\n",
              "8998     1-hour video: Bush-Clinton and .01% ‘Deep Stat...\n",
              "9858     Comment on Guess what happened in Chiraq this ...\n",
              "10448    Comment on More Than 60 School Children Witnes...\n",
              "10555    Comment on Bombshell Study Exposes Frightening...\n",
              "10567    ‘Election’ 2016 interview with Washington, Jef...\n",
              "11150    BREAKING! NYPD Ready To Make Arrests In Weiner...\n",
              "11707    Always under fire from designated terrorist gr...\n",
              "12587    Comment on “Shoot First Ask Questions Later” :...\n",
              "13609    Muslims regularly use “Inshallah” (“God Willin...\n",
              "14186    Comment on The Science is “Overwhelming At Thi...\n",
              "16229    Scott Bennett, Whistleblower, U.S. Army Terror...\n",
              "16808    Comment on Breaking: CDC Blocks Testimony of T...\n",
              "18041    Veterans Day is typical .01% rogue state inver...\n",
              "18280    Comment on Invention Secrecy At All-Time High:...\n",
              "18384    Comment on 10 More Beautiful Images That Remin...\n",
              "18493    Comment on 15 Plants & Herbs That Can Boost Lu...\n",
              "18686    Hillary takes a cookie from a ‘little person’ ...\n",
              "19952    Comment on Johnson & Johnson Ordered To Pay $7...\n",
              "20223    Comment on Understanding Misleading Food Label...\n",
              "20658    Comment on 5 Corporations Own The U.S. Media –...\n",
              "Name: title, dtype: object"
            ]
          },
          "metadata": {
            "tags": []
          },
          "execution_count": 52
        }
      ]
    },
    {
      "cell_type": "code",
      "metadata": {
        "id": "5Av_-BWZ4HCT",
        "colab_type": "code",
        "colab": {
          "base_uri": "https://localhost:8080/",
          "height": 204
        },
        "outputId": "5376fc58-81df-44ee-9f6b-5984f01455ad"
      },
      "source": [
        "# dropping the outliers\n",
        "df_train = df_train.drop(df_train['title'][df_train['length'] < 10].index, axis = 0)\n",
        "df_train = df_train.drop(df_train['title'][df_train['length'] > 200].index, axis = 0)\n",
        "df_train.head()"
      ],
      "execution_count": 53,
      "outputs": [
        {
          "output_type": "execute_result",
          "data": {
            "text/html": [
              "<div>\n",
              "<style scoped>\n",
              "    .dataframe tbody tr th:only-of-type {\n",
              "        vertical-align: middle;\n",
              "    }\n",
              "\n",
              "    .dataframe tbody tr th {\n",
              "        vertical-align: top;\n",
              "    }\n",
              "\n",
              "    .dataframe thead th {\n",
              "        text-align: right;\n",
              "    }\n",
              "</style>\n",
              "<table border=\"1\" class=\"dataframe\">\n",
              "  <thead>\n",
              "    <tr style=\"text-align: right;\">\n",
              "      <th></th>\n",
              "      <th>title</th>\n",
              "      <th>label</th>\n",
              "      <th>length</th>\n",
              "    </tr>\n",
              "  </thead>\n",
              "  <tbody>\n",
              "    <tr>\n",
              "      <th>0</th>\n",
              "      <td>House Dem Aide: We Didn’t Even See Comey’s Let...</td>\n",
              "      <td>1</td>\n",
              "      <td>81</td>\n",
              "    </tr>\n",
              "    <tr>\n",
              "      <th>1</th>\n",
              "      <td>FLYNN: Hillary Clinton, Big Woman on Campus - ...</td>\n",
              "      <td>0</td>\n",
              "      <td>55</td>\n",
              "    </tr>\n",
              "    <tr>\n",
              "      <th>2</th>\n",
              "      <td>Why the Truth Might Get You Fired</td>\n",
              "      <td>1</td>\n",
              "      <td>33</td>\n",
              "    </tr>\n",
              "    <tr>\n",
              "      <th>3</th>\n",
              "      <td>15 Civilians Killed In Single US Airstrike Hav...</td>\n",
              "      <td>1</td>\n",
              "      <td>63</td>\n",
              "    </tr>\n",
              "    <tr>\n",
              "      <th>4</th>\n",
              "      <td>Iranian woman jailed for fictional unpublished...</td>\n",
              "      <td>1</td>\n",
              "      <td>93</td>\n",
              "    </tr>\n",
              "  </tbody>\n",
              "</table>\n",
              "</div>"
            ],
            "text/plain": [
              "                                               title  label  length\n",
              "0  House Dem Aide: We Didn’t Even See Comey’s Let...      1      81\n",
              "1  FLYNN: Hillary Clinton, Big Woman on Campus - ...      0      55\n",
              "2                  Why the Truth Might Get You Fired      1      33\n",
              "3  15 Civilians Killed In Single US Airstrike Hav...      1      63\n",
              "4  Iranian woman jailed for fictional unpublished...      1      93"
            ]
          },
          "metadata": {
            "tags": []
          },
          "execution_count": 53
        }
      ]
    },
    {
      "cell_type": "code",
      "metadata": {
        "id": "UcA4CDGg0a4X",
        "colab_type": "code",
        "colab": {
          "base_uri": "https://localhost:8080/",
          "height": 34
        },
        "outputId": "42453994-310d-4a2e-c58a-aa45010be175"
      },
      "source": [
        "len(df_train['length'])"
      ],
      "execution_count": 54,
      "outputs": [
        {
          "output_type": "execute_result",
          "data": {
            "text/plain": [
              "20191"
            ]
          },
          "metadata": {
            "tags": []
          },
          "execution_count": 54
        }
      ]
    },
    {
      "cell_type": "code",
      "metadata": {
        "id": "64uwVDMC4pbG",
        "colab_type": "code",
        "colab": {
          "base_uri": "https://localhost:8080/",
          "height": 34
        },
        "outputId": "751986cb-20ed-48b9-dbef-e00b5f60c3fe"
      },
      "source": [
        "min(df_train['length']), max(df_train['length'])"
      ],
      "execution_count": 55,
      "outputs": [
        {
          "output_type": "execute_result",
          "data": {
            "text/plain": [
              "(10, 199)"
            ]
          },
          "metadata": {
            "tags": []
          },
          "execution_count": 55
        }
      ]
    },
    {
      "cell_type": "code",
      "metadata": {
        "id": "hqjT9_Zq4w5w",
        "colab_type": "code",
        "colab": {}
      },
      "source": [
        "max_features = 5000\n",
        "tokenizer = Tokenizer(num_words = max_features, filters='!\"#$%&()*+,-./:;<=>?@[\\\\]^_`{|}~\\t\\n', lower = True, split = ' ')\n",
        "tokenizer.fit_on_texts(texts = df_train['title'])\n",
        "X = tokenizer.texts_to_sequences(texts = df_train['title'])"
      ],
      "execution_count": 56,
      "outputs": []
    },
    {
      "cell_type": "code",
      "metadata": {
        "id": "ZkdRMNyf8fGF",
        "colab_type": "code",
        "colab": {}
      },
      "source": [
        "# now applying padding to make them even shaped.\n",
        "sent_length = 30\n",
        "X = pad_sequences(sequences = X, maxlen = sent_length, padding = 'pre')"
      ],
      "execution_count": 57,
      "outputs": []
    },
    {
      "cell_type": "code",
      "metadata": {
        "id": "fKBqw4OBoj24",
        "colab_type": "code",
        "colab": {
          "base_uri": "https://localhost:8080/",
          "height": 51
        },
        "outputId": "0d38404a-3b26-42e5-f685-6505d6af743d"
      },
      "source": [
        "## Get the Dependent features\n",
        "y=df_train['label'].values\n",
        "print(X.shape)\n",
        "print(y.shape)"
      ],
      "execution_count": 58,
      "outputs": [
        {
          "output_type": "stream",
          "text": [
            "(20191, 30)\n",
            "(20191,)\n"
          ],
          "name": "stdout"
        }
      ]
    },
    {
      "cell_type": "code",
      "metadata": {
        "id": "-yKByZ11--V9",
        "colab_type": "code",
        "colab": {
          "base_uri": "https://localhost:8080/",
          "height": 68
        },
        "outputId": "98f79c68-df70-4dc8-9c56-278f7a91b7ab"
      },
      "source": [
        "X[1]"
      ],
      "execution_count": 59,
      "outputs": [
        {
          "output_type": "execute_result",
          "data": {
            "text/plain": [
              "array([   0,    0,    0,    0,    0,    0,    0,    0,    0,    0,    0,\n",
              "          0,    0,    0,    0,    0,    0,    0,    0,    0,    0,    0,\n",
              "        887,   16,   18,  151,  191,   13, 1224,   12], dtype=int32)"
            ]
          },
          "metadata": {
            "tags": []
          },
          "execution_count": 59
        }
      ]
    },
    {
      "cell_type": "code",
      "metadata": {
        "id": "rOZ845oiojzZ",
        "colab_type": "code",
        "colab": {
          "base_uri": "https://localhost:8080/",
          "height": 306
        },
        "outputId": "b3d3239e-2edf-489e-c443-3636383cbee0"
      },
      "source": [
        "## Creating model\n",
        "embedding_vector_features=64\n",
        "model=Sequential()\n",
        "model.add(Embedding(max_features,embedding_vector_features,input_length=sent_length))\n",
        "model.add(LSTM(100))\n",
        "model.add(Dropout(0.3))\n",
        "#model.add(Dense(120,activation='relu'))\n",
        "#model.add(Dropout(0.3))\n",
        "model.add(Dense(1,activation='sigmoid'))\n",
        "model.compile(loss='binary_crossentropy',optimizer='adam',metrics=['accuracy'])\n",
        "print(model.summary())"
      ],
      "execution_count": 60,
      "outputs": [
        {
          "output_type": "stream",
          "text": [
            "Model: \"sequential_7\"\n",
            "_________________________________________________________________\n",
            "Layer (type)                 Output Shape              Param #   \n",
            "=================================================================\n",
            "embedding_7 (Embedding)      (None, 30, 64)            320000    \n",
            "_________________________________________________________________\n",
            "lstm_7 (LSTM)                (None, 100)               66000     \n",
            "_________________________________________________________________\n",
            "dropout_8 (Dropout)          (None, 100)               0         \n",
            "_________________________________________________________________\n",
            "dense_10 (Dense)             (None, 1)                 101       \n",
            "=================================================================\n",
            "Total params: 386,101\n",
            "Trainable params: 386,101\n",
            "Non-trainable params: 0\n",
            "_________________________________________________________________\n",
            "None\n"
          ],
          "name": "stdout"
        }
      ]
    },
    {
      "cell_type": "code",
      "metadata": {
        "id": "jkhviSE6ojx6",
        "colab_type": "code",
        "colab": {}
      },
      "source": [
        "# splitting the data training data for training and validation.\n",
        "X_train, X_test, y_train, y_test = train_test_split(X, y, test_size = 0.2)"
      ],
      "execution_count": 61,
      "outputs": []
    },
    {
      "cell_type": "code",
      "metadata": {
        "id": "siX8lc2gojuI",
        "colab_type": "code",
        "colab": {
          "base_uri": "https://localhost:8080/",
          "height": 374
        },
        "outputId": "6b0586a6-bd04-4aba-9ee2-261ee3f58479"
      },
      "source": [
        "### Finally Training\n",
        "model.fit(X_train,y_train,validation_data=(X_test,y_test),epochs=10,batch_size=124)"
      ],
      "execution_count": 62,
      "outputs": [
        {
          "output_type": "stream",
          "text": [
            "Epoch 1/10\n",
            "131/131 [==============================] - 9s 68ms/step - loss: 0.3452 - accuracy: 0.8486 - val_loss: 0.1515 - val_accuracy: 0.9413\n",
            "Epoch 2/10\n",
            "131/131 [==============================] - 9s 66ms/step - loss: 0.1175 - accuracy: 0.9563 - val_loss: 0.1448 - val_accuracy: 0.9440\n",
            "Epoch 3/10\n",
            "131/131 [==============================] - 9s 66ms/step - loss: 0.0798 - accuracy: 0.9724 - val_loss: 0.1438 - val_accuracy: 0.9421\n",
            "Epoch 4/10\n",
            "131/131 [==============================] - 9s 66ms/step - loss: 0.0575 - accuracy: 0.9817 - val_loss: 0.1622 - val_accuracy: 0.9361\n",
            "Epoch 5/10\n",
            "131/131 [==============================] - 9s 66ms/step - loss: 0.0379 - accuracy: 0.9875 - val_loss: 0.1841 - val_accuracy: 0.9393\n",
            "Epoch 6/10\n",
            "131/131 [==============================] - 9s 66ms/step - loss: 0.0240 - accuracy: 0.9931 - val_loss: 0.2574 - val_accuracy: 0.9411\n",
            "Epoch 7/10\n",
            "131/131 [==============================] - 9s 66ms/step - loss: 0.0150 - accuracy: 0.9959 - val_loss: 0.3136 - val_accuracy: 0.9379\n",
            "Epoch 8/10\n",
            "131/131 [==============================] - 9s 66ms/step - loss: 0.0140 - accuracy: 0.9963 - val_loss: 0.3099 - val_accuracy: 0.9356\n",
            "Epoch 9/10\n",
            "131/131 [==============================] - 9s 66ms/step - loss: 0.0103 - accuracy: 0.9965 - val_loss: 0.3339 - val_accuracy: 0.9379\n",
            "Epoch 10/10\n",
            "131/131 [==============================] - 9s 66ms/step - loss: 0.0072 - accuracy: 0.9980 - val_loss: 0.3097 - val_accuracy: 0.9386\n"
          ],
          "name": "stdout"
        },
        {
          "output_type": "execute_result",
          "data": {
            "text/plain": [
              "<tensorflow.python.keras.callbacks.History at 0x7f50799bd588>"
            ]
          },
          "metadata": {
            "tags": []
          },
          "execution_count": 62
        }
      ]
    },
    {
      "cell_type": "code",
      "metadata": {
        "id": "4ynMbg_8ojrv",
        "colab_type": "code",
        "colab": {}
      },
      "source": [
        "from sklearn.metrics import confusion_matrix"
      ],
      "execution_count": 63,
      "outputs": []
    },
    {
      "cell_type": "code",
      "metadata": {
        "id": "4-GnsHtFOT-r",
        "colab_type": "code",
        "colab": {}
      },
      "source": [
        "y_pred=model.predict_classes(X_test)"
      ],
      "execution_count": 66,
      "outputs": []
    },
    {
      "cell_type": "code",
      "metadata": {
        "id": "NeqeiXQvOuS6",
        "colab_type": "code",
        "colab": {
          "base_uri": "https://localhost:8080/",
          "height": 51
        },
        "outputId": "3bb9233c-1fb1-4771-be76-979879613707"
      },
      "source": [
        "confusion_matrix(y_test,y_pred)"
      ],
      "execution_count": 67,
      "outputs": [
        {
          "output_type": "execute_result",
          "data": {
            "text/plain": [
              "array([[1963,  175],\n",
              "       [  73, 1828]])"
            ]
          },
          "metadata": {
            "tags": []
          },
          "execution_count": 67
        }
      ]
    },
    {
      "cell_type": "code",
      "metadata": {
        "id": "XJK42juEOwQl",
        "colab_type": "code",
        "colab": {}
      },
      "source": [
        "model.save(\"/content/drive/My Drive/FakeNewsClassifier/FakeNewsModel(New).h5\")"
      ],
      "execution_count": 68,
      "outputs": []
    }
  ]
}